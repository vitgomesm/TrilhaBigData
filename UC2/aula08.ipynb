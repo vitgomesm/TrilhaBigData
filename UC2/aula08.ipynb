{
 "cells": [
  {
   "cell_type": "markdown",
   "metadata": {},
   "source": [
    "**Medidas de Tendências Central com Numpy:**"
   ]
  },
  {
   "cell_type": "code",
   "execution_count": 2,
   "metadata": {},
   "outputs": [],
   "source": [
    "import numpy as np\n",
    "import random"
   ]
  },
  {
   "cell_type": "markdown",
   "metadata": {},
   "source": [
    "**Atividade assistida:** Crie uma array com 50 números aleatórios e repita a análise sobre a distância calculada "
   ]
  },
  {
   "cell_type": "code",
   "execution_count": 23,
   "metadata": {},
   "outputs": [
    {
     "name": "stdout",
     "output_type": "stream",
     "text": [
      "[190  65  44 100 106   9  12 186  53 150  97  11 195  90  89   3  56  96\n",
      " 144  75  43  36  31 117 115  72 173 146  71 128 101  57 135 196  82 153\n",
      "  60 102 154 199 109 103 117 177  77  26 170  40 140 197]\n"
     ]
    }
   ],
   "source": [
    "\n",
    "nums=[random.randint(1,200) for n in range (50)]\n",
    "numeros=np.array(nums)\n",
    "print(numeros)"
   ]
  },
  {
   "cell_type": "code",
   "execution_count": 24,
   "metadata": {},
   "outputs": [],
   "source": [
    "media = np.mean(numeros)\n",
    "mediana = np.median(numeros)\n",
    "distancia = (media-mediana)/mediana*100\n",
    "\n",
    "q1=np.percentile(numeros,25) \n",
    "q2=np.percentile(numeros,50) \n",
    "q3=np.percentile(numeros,75)\n",
    "\n"
   ]
  },
  {
   "cell_type": "markdown",
   "metadata": {},
   "source": [
    "Como devo interpretar isso? \n",
    "Se:\n",
    "1. Distância <= |10%| : a minha média é CONFIÁVEL.\n",
    "\n",
    "2. |10%| < Distância < |25%| : existe uma influência MODERADA de valores extremos. \n",
    "\n",
    "3. Distância >= |25%| : existe ALTA influência dos valores extremos."
   ]
  },
  {
   "cell_type": "code",
   "execution_count": 26,
   "metadata": {},
   "outputs": [
    {
     "name": "stdout",
     "output_type": "stream",
     "text": [
      "A média está DENTRO do intervalo interquartil, o que sugere confiabilidade.\n"
     ]
    }
   ],
   "source": [
    "#INTERVALO INTERQUARTIL:\n",
    "\n",
    "if q1 <= media <= q3:\n",
    "    print(\"A média está DENTRO do intervalo interquartil, o que sugere confiabilidade.\")\n",
    "else:\n",
    "    print(\"A média está FORA do intervalo interquartil, o que sugere MENOS confiabilidade.\")"
   ]
  },
  {
   "cell_type": "markdown",
   "metadata": {},
   "source": [
    "**Outliers:**"
   ]
  },
  {
   "cell_type": "code",
   "execution_count": 27,
   "metadata": {},
   "outputs": [
    {
     "name": "stdout",
     "output_type": "stream",
     "text": [
      "Média: 101.96\n",
      "Mediana: 100.5\n",
      "Distância entre média e mediana: 1.45%\n",
      "Primeiro Quartil (Q1): 57.75\n",
      "Segundo Quartil (Q2): 100.5\n",
      "Terceiro Quartil (Q3): 145.5\n",
      "Intervalo InterQuartil: 87.75\n",
      "Limite Superior: 277.125\n",
      "Limite Inferior: -73.875\n"
     ]
    }
   ],
   "source": [
    "#Cálculos para verificação de intervalo InterQuartil (IQR) e seus limites:\n",
    "\n",
    "iqr=q3-q1\n",
    "limite_superior=q3+(1.5*iqr)\n",
    "limite_inferior=q1-(1.5*iqr)\n",
    "\n",
    "\n",
    "#Resumo Estatísticos\n",
    "print(f\"Média: {media}\")\n",
    "print(f\"Mediana: {mediana}\")\n",
    "print(f\"Distância entre média e mediana: {distancia:.2f}%\")\n",
    "print(f\"Primeiro Quartil (Q1): {q1}\")\n",
    "print(f\"Segundo Quartil (Q2): {q2}\")\n",
    "print(f\"Terceiro Quartil (Q3): {q3}\")\n",
    "print(f\"Intervalo InterQuartil: {iqr}\")\n",
    "print(f\"Limite Superior: {limite_superior}\")\n",
    "print(f\"Limite Inferior: {limite_inferior}\")"
   ]
  },
  {
   "cell_type": "markdown",
   "metadata": {},
   "source": []
  },
  {
   "cell_type": "code",
   "execution_count": null,
   "metadata": {},
   "outputs": [],
   "source": []
  }
 ],
 "metadata": {
  "kernelspec": {
   "display_name": "Python 3",
   "language": "python",
   "name": "python3"
  },
  "language_info": {
   "codemirror_mode": {
    "name": "ipython",
    "version": 3
   },
   "file_extension": ".py",
   "mimetype": "text/x-python",
   "name": "python",
   "nbconvert_exporter": "python",
   "pygments_lexer": "ipython3",
   "version": "3.11.4"
  },
  "orig_nbformat": 4
 },
 "nbformat": 4,
 "nbformat_minor": 2
}
