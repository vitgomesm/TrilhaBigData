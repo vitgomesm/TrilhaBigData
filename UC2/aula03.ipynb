{
 "cells": [
  {
   "cell_type": "markdown",
   "metadata": {},
   "source": [
    "Diferenças entre PANDAS e NUMPY:"
   ]
  },
  {
   "cell_type": "code",
   "execution_count": null,
   "metadata": {},
   "outputs": [],
   "source": [
    "PANDAS:\n",
    "\n",
    "Melhor forma de trabalhar com dados tabulares (dataframe).\n",
    "\n",
    "As ferramentas poderosas são os comandos DATAFRAME e SERIES.\n",
    "\n",
    "Consome mais memória.\n",
    "\n",
    "Possui melhor desempenho se o número de linhas da matriz precisar ser maior do que 500k.\n",
    "\n",
    "Oferece um recurso para visualizar tabelas 2D chamadas DATAFRAMES."
   ]
  },
  {
   "cell_type": "markdown",
   "metadata": {},
   "source": [
    "NUMPY:\n",
    "\n",
    "Melhor forma de trabalhar com dados numéricos (série).\n",
    "\n",
    "A ferramenta poderosa é através dos comandos de ARRAYS.\n",
    "\n",
    "Mais eficiente em termos de memória.\n",
    "\n",
    "É mais eficiente quando o número de linhas do array é de 50k ou menos.\n",
    "\n",
    "Trabalha com MATRIZES MULTIDIMENSIONAIS."
   ]
  },
  {
   "cell_type": "code",
   "execution_count": null,
   "metadata": {},
   "outputs": [],
   "source": [
    "#Próxima Aula:\n",
    "\n",
    "#Pesquisa:\n",
    "\n",
    "#Comandos:\n",
    "\n",
    ".dtype\n",
    ".shape\n",
    ".zeros\n",
    ".ones\n",
    ".empty\n",
    ".arange\n",
    ".random\n",
    ".split \n",
    ".reshape\n",
    ".concatenate\n",
    ".describe"
   ]
  }
 ],
 "metadata": {
  "language_info": {
   "name": "python"
  },
  "orig_nbformat": 4
 },
 "nbformat": 4,
 "nbformat_minor": 2
}
