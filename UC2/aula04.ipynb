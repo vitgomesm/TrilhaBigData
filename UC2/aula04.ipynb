{
 "cells": [
  {
   "cell_type": "markdown",
   "metadata": {},
   "source": [
    "**Importação das Bibliotecas:**\n"
   ]
  },
  {
   "cell_type": "code",
   "execution_count": 1,
   "metadata": {},
   "outputs": [],
   "source": [
    "import pandas as pd\n",
    "import numpy as np"
   ]
  },
  {
   "cell_type": "markdown",
   "metadata": {},
   "source": [
    "Criação de um Array a partir de uma lista:"
   ]
  },
  {
   "cell_type": "code",
   "execution_count": 2,
   "metadata": {},
   "outputs": [
    {
     "name": "stdout",
     "output_type": "stream",
     "text": [
      "[1 2 3 4 5 6]\n"
     ]
    }
   ],
   "source": [
    "lista1=[1,2,3,4,5,6]\n",
    "array1=np.array(lista1)\n",
    "print(array1)"
   ]
  },
  {
   "cell_type": "markdown",
   "metadata": {},
   "source": [
    "Principais Funções para Definição de Arrays partindo do Zero:"
   ]
  },
  {
   "cell_type": "code",
   "execution_count": 3,
   "metadata": {},
   "outputs": [
    {
     "name": "stdout",
     "output_type": "stream",
     "text": [
      "int64\n"
     ]
    }
   ],
   "source": [
    "print(array1.dtype)"
   ]
  },
  {
   "cell_type": "code",
   "execution_count": 4,
   "metadata": {},
   "outputs": [
    {
     "name": "stdout",
     "output_type": "stream",
     "text": [
      "(6,)\n"
     ]
    }
   ],
   "source": [
    "print(array1.shape)"
   ]
  },
  {
   "cell_type": "code",
   "execution_count": 94,
   "metadata": {},
   "outputs": [
    {
     "name": "stdout",
     "output_type": "stream",
     "text": [
      "[[0. 0. 0.]\n",
      " [0. 0. 0.]\n",
      " [0. 0. 0.]\n",
      " [0. 0. 0.]]\n"
     ]
    }
   ],
   "source": [
    "zeros=np.zeros((4,3))\n",
    "print(zeros)"
   ]
  },
  {
   "cell_type": "code",
   "execution_count": 95,
   "metadata": {},
   "outputs": [
    {
     "name": "stdout",
     "output_type": "stream",
     "text": [
      "[[1. 1. 1.]\n",
      " [1. 1. 1.]\n",
      " [1. 1. 1.]\n",
      " [1. 1. 1.]]\n"
     ]
    }
   ],
   "source": [
    "number_one=np.ones((4,3))\n",
    "print(number_one)"
   ]
  },
  {
   "cell_type": "code",
   "execution_count": 96,
   "metadata": {},
   "outputs": [
    {
     "name": "stdout",
     "output_type": "stream",
     "text": [
      "[[6.23042070e-307 4.67296746e-307 1.69121096e-306 1.11261162e-306]\n",
      " [9.34598925e-307 1.42419802e-306 8.01092457e-307 6.23053614e-307]\n",
      " [1.86919649e-306 1.78020848e-306 1.11258175e-306 1.78019082e-306]\n",
      " [1.33511290e-306 4.67296747e-307 7.23188049e-308 1.35994435e-317]]\n"
     ]
    }
   ],
   "source": [
    "vazio=np.empty((4,4))\n",
    "print(vazio)"
   ]
  },
  {
   "cell_type": "code",
   "execution_count": 97,
   "metadata": {},
   "outputs": [
    {
     "name": "stdout",
     "output_type": "stream",
     "text": [
      "[-100  -90  -80  -70  -60  -50  -40  -30  -20]\n"
     ]
    }
   ],
   "source": [
    "sequencia=np.arange(-100,-10,10)\n",
    "print(sequencia)"
   ]
  },
  {
   "cell_type": "code",
   "execution_count": 98,
   "metadata": {},
   "outputs": [
    {
     "name": "stdout",
     "output_type": "stream",
     "text": [
      "[[0.20359756 0.4669691  0.9314291 ]\n",
      " [0.75979036 0.0328074  0.53263958]]\n"
     ]
    }
   ],
   "source": [
    "aleatorio=np.random.rand(2,3)\n",
    "print(aleatorio)"
   ]
  },
  {
   "cell_type": "markdown",
   "metadata": {},
   "source": [
    "Funções para Manipulação de Arrays Existentes:"
   ]
  },
  {
   "cell_type": "code",
   "execution_count": 99,
   "metadata": {},
   "outputs": [
    {
     "name": "stdout",
     "output_type": "stream",
     "text": [
      "[[1 2]\n",
      " [3 4]\n",
      " [5 6]]\n"
     ]
    }
   ],
   "source": [
    "array2=array1.reshape((3,2))\n",
    "print(array2)"
   ]
  },
  {
   "cell_type": "code",
   "execution_count": 100,
   "metadata": {},
   "outputs": [
    {
     "name": "stdout",
     "output_type": "stream",
     "text": [
      "[array([[1, 2]]), array([[3, 4]]), array([[5, 6]])]\n"
     ]
    }
   ],
   "source": [
    "quebra=np.split(array2,3)\n",
    "print(quebra)"
   ]
  },
  {
   "cell_type": "code",
   "execution_count": 101,
   "metadata": {},
   "outputs": [
    {
     "name": "stdout",
     "output_type": "stream",
     "text": [
      "[1 2] [3 4]\n",
      "[1 2 3 4]\n"
     ]
    }
   ],
   "source": [
    "array3=np.array([1,2])\n",
    "array4=np.array([3,4])\n",
    "print(array3,array4)\n",
    "uniao=np.concatenate((array3,array4))\n",
    "print(uniao)"
   ]
  },
  {
   "cell_type": "markdown",
   "metadata": {},
   "source": [
    "**Operações com Séries Pandas:**"
   ]
  },
  {
   "cell_type": "markdown",
   "metadata": {},
   "source": [
    "Criação:"
   ]
  },
  {
   "cell_type": "code",
   "execution_count": 102,
   "metadata": {},
   "outputs": [
    {
     "name": "stdout",
     "output_type": "stream",
     "text": [
      "a    10\n",
      "b    20\n",
      "c    30\n",
      "dtype: int64\n"
     ]
    }
   ],
   "source": [
    "serie1=pd.Series([10,20,30],index=['a','b','c'])\n",
    "print(serie1)"
   ]
  },
  {
   "cell_type": "markdown",
   "metadata": {},
   "source": [
    "Seleção por Índice:"
   ]
  },
  {
   "cell_type": "code",
   "execution_count": 103,
   "metadata": {},
   "outputs": [
    {
     "name": "stdout",
     "output_type": "stream",
     "text": [
      "10\n",
      "--------\n",
      "a    10\n",
      "dtype: int64\n",
      "--------\n",
      "a    10\n",
      "c    30\n",
      "dtype: int64\n"
     ]
    }
   ],
   "source": [
    "print(serie1['a'])\n",
    "print('--------')\n",
    "print(serie1[['a']])\n",
    "print('--------')\n",
    "print(serie1[['a','c']])"
   ]
  },
  {
   "cell_type": "markdown",
   "metadata": {},
   "source": [
    "Operações de Filtragem e Aritméticas:"
   ]
  },
  {
   "cell_type": "code",
   "execution_count": 110,
   "metadata": {},
   "outputs": [
    {
     "name": "stdout",
     "output_type": "stream",
     "text": [
      "b    20\n",
      "c    30\n",
      "dtype: int64\n",
      "--------\n",
      "a    30\n",
      "b    60\n",
      "c    90\n",
      "dtype: int64\n"
     ]
    }
   ],
   "source": [
    "filtro1=serie1[serie1>15]\n",
    "print(filtro1)\n",
    "print('--------')\n",
    "serie2=serie1*3\n",
    "print(serie2)"
   ]
  },
  {
   "cell_type": "code",
   "execution_count": 111,
   "metadata": {},
   "outputs": [
    {
     "name": "stdout",
     "output_type": "stream",
     "text": [
      "0     6\n",
      "1     8\n",
      "2    10\n",
      "3    12\n",
      "dtype: int64\n",
      "--------\n",
      "0   -4\n",
      "1   -4\n",
      "2   -4\n",
      "3   -4\n",
      "dtype: int64\n",
      "--------\n",
      "0     5\n",
      "1    12\n",
      "2    21\n",
      "3    32\n",
      "dtype: int64\n",
      "--------\n",
      "0    0.200000\n",
      "1    0.333333\n",
      "2    0.428571\n",
      "3    0.500000\n",
      "dtype: float64\n"
     ]
    }
   ],
   "source": [
    "serie3=pd.Series([1,2,3,4])\n",
    "serie4=pd.Series([5,6,7,8])\n",
    "\n",
    "#Operações Fundamentais:\n",
    "print(serie3+serie4)\n",
    "print('--------')\n",
    "print(serie3-serie4)\n",
    "print('--------')\n",
    "print(serie3*serie4)\n",
    "print('--------')\n",
    "print(serie3/serie4)"
   ]
  },
  {
   "cell_type": "code",
   "execution_count": 112,
   "metadata": {},
   "outputs": [
    {
     "name": "stdout",
     "output_type": "stream",
     "text": [
      "0    10.0\n",
      "1     NaN\n",
      "2    30.0\n",
      "dtype: float64\n"
     ]
    }
   ],
   "source": [
    "#Suporte a Valores Nulos:\n",
    "\n",
    "serievazia=pd.Series([10,np.nan,30])\n",
    "print(serievazia) #NaN = 'Null as Number'"
   ]
  },
  {
   "cell_type": "code",
   "execution_count": 113,
   "metadata": {},
   "outputs": [
    {
     "name": "stdout",
     "output_type": "stream",
     "text": [
      "0    11.0\n",
      "1     NaN\n",
      "2    33.0\n",
      "3     NaN\n",
      "dtype: float64\n",
      "--------\n",
      "0    -9.0\n",
      "1     NaN\n",
      "2   -27.0\n",
      "3     NaN\n",
      "dtype: float64\n",
      "--------\n",
      "0    10.0\n",
      "1     NaN\n",
      "2    90.0\n",
      "3     NaN\n",
      "dtype: float64\n",
      "--------\n",
      "0    0.1\n",
      "1    NaN\n",
      "2    0.1\n",
      "3    NaN\n",
      "dtype: float64\n"
     ]
    }
   ],
   "source": [
    "print(serie3+serievazia)\n",
    "print('--------')\n",
    "print(serie3-serievazia)\n",
    "print('--------')\n",
    "print(serie3*serievazia)\n",
    "print('--------')\n",
    "print(serie3/serievazia)"
   ]
  }
 ],
 "metadata": {
  "kernelspec": {
   "display_name": "virtual1",
   "language": "python",
   "name": "python3"
  },
  "language_info": {
   "codemirror_mode": {
    "name": "ipython",
    "version": 3
   },
   "file_extension": ".py",
   "mimetype": "text/x-python",
   "name": "python",
   "nbconvert_exporter": "python",
   "pygments_lexer": "ipython3",
   "version": "3.11.4"
  },
  "orig_nbformat": 4
 },
 "nbformat": 4,
 "nbformat_minor": 2
}
