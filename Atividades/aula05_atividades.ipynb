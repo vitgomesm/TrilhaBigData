{
 "cells": [
  {
   "cell_type": "markdown",
   "metadata": {},
   "source": [
    "Atividade 1:\n",
    "\n",
    "Crie um array unidimenssional com os numeros de 1 a 12. Transforme este array em uma matriz de 3 linhas e 4 colunas.\n",
    "\n",
    "(DESAFIO: Aplique a trasnposição da matriz para criar as dimensões em 4X3 (.transpose) e, em seguida, crie um array unidimensional (.flatten))."
   ]
  },
  {
   "cell_type": "code",
   "execution_count": 2,
   "metadata": {},
   "outputs": [],
   "source": [
    "import pandas as pd\n",
    "import numpy as np"
   ]
  },
  {
   "cell_type": "code",
   "execution_count": 3,
   "metadata": {},
   "outputs": [
    {
     "name": "stdout",
     "output_type": "stream",
     "text": [
      "[ 1  2  3  4  5  6  7  8  9 10 11 12]\n",
      "[[ 1  2  3  4]\n",
      " [ 5  6  7  8]\n",
      " [ 9 10 11 12]]\n",
      "----------------------\n"
     ]
    }
   ],
   "source": [
    "#Resolução:\n",
    "array_original= np.arange(1,13)\n",
    "print(array_original)\n",
    "array_3por_4 = array_original.reshape(3,4)\n",
    "print(array_3por_4)\n",
    "print('----------------------')\n",
    "\n",
    "#DESAFIO\n",
    "array_4por_3 = array_3por_4.transpose()\n"
   ]
  },
  {
   "cell_type": "markdown",
   "metadata": {},
   "source": [
    "Atividade 2:\n",
    "\n",
    "Leia o arquivo ClassicDisco.csv trabalhado em aulas anteriores o comando .describe() para gerar uma aálise estatística prévia dos dados. Não esqueça dos comandos para vereficar as primeiras e últimas linhas do dataset como apoio nessa atividade."
   ]
  },
  {
   "cell_type": "code",
   "execution_count": null,
   "metadata": {},
   "outputs": [],
   "source": []
  }
 ],
 "metadata": {
  "kernelspec": {
   "display_name": "Python 3",
   "language": "python",
   "name": "python3"
  },
  "language_info": {
   "codemirror_mode": {
    "name": "ipython",
    "version": 3
   },
   "file_extension": ".py",
   "mimetype": "text/x-python",
   "name": "python",
   "nbconvert_exporter": "python",
   "pygments_lexer": "ipython3",
   "version": "3.11.4"
  },
  "orig_nbformat": 4
 },
 "nbformat": 4,
 "nbformat_minor": 2
}
