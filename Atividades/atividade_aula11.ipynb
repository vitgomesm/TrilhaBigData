{
 "cells": [
  {
   "cell_type": "markdown",
   "metadata": {},
   "source": [
    "**Atividade Aula 11**"
   ]
  },
  {
   "cell_type": "code",
   "execution_count": 1,
   "metadata": {},
   "outputs": [],
   "source": [
    "import numpy as np\n",
    "import pandas as pd\n",
    "import matplotlib as plt\n",
    "import random"
   ]
  },
  {
   "cell_type": "code",
   "execution_count": 11,
   "metadata": {},
   "outputs": [
    {
     "name": "stdout",
     "output_type": "stream",
     "text": [
      "[1609 4076 3453 2070 4308 2892 2212 3053 1914 4076 4415 1802 4258 4101\n",
      " 3613 3028 2434 2616 4013 2312 3207 3351 1870 1682 2074 2893 3028 2685\n",
      " 2795 1999 1969 2967 3139 2085 2676 2789 3539 2679 2060 1974 2038 2829\n",
      " 3632 2462 2527 3061 3635 2211 2751 4083]\n"
     ]
    }
   ],
   "source": [
    "nums = [random.randint(1500, 4440) for n in range (50)]\n",
    "numeros=np.array(nums) \n",
    "print(numeros)"
   ]
  },
  {
   "cell_type": "code",
   "execution_count": null,
   "metadata": {},
   "outputs": [],
   "source": [
    "numeros_df=pd.DataFrame(numeros, columns=[\"Salários\"])\n",
    "display(numeros_df)"
   ]
  },
  {
   "cell_type": "code",
   "execution_count": 13,
   "metadata": {},
   "outputs": [
    {
     "name": "stdout",
     "output_type": "stream",
     "text": [
      "Assimetria:0.3748685245869339\n",
      "Média:2858.9\n",
      "Mediana:2792.0\n"
     ]
    }
   ],
   "source": [
    "assimetria=numeros_df['Salários'].skew()\n",
    "media=numeros_df['Salários'].mean()\n",
    "mediana=numeros_df['Salários'].median()\n",
    "\n",
    "print(f'Assimetria:{assimetria}')\n",
    "print(f'Média:{media}')\n",
    "print(f'Mediana:{mediana}')"
   ]
  },
  {
   "cell_type": "code",
   "execution_count": 17,
   "metadata": {},
   "outputs": [
    {
     "name": "stdout",
     "output_type": "stream",
     "text": [
      "Distribuição Simétrica\n"
     ]
    }
   ],
   "source": [
    "if -0.5 <= assimetria <= 0.5:\n",
    "    resultado=\"Distribuição Simétrica\"\n",
    "elif assimetria > 0.5:\n",
    "    resultado=\"Distribuição Assimétrica Positiva\"\n",
    "else:\n",
    "    resultado=\"Distribuição Assimétrica Negativa\"\n",
    "\n",
    "print(resultado)"
   ]
  },
  {
   "cell_type": "code",
   "execution_count": 18,
   "metadata": {},
   "outputs": [
    {
     "name": "stdout",
     "output_type": "stream",
     "text": [
      "Curtose:-0.8770867577170232\n"
     ]
    }
   ],
   "source": [
    "curtose=numeros_df['Salários'].kurtosis()\n",
    "print(f'Curtose:{curtose}')"
   ]
  },
  {
   "cell_type": "code",
   "execution_count": 19,
   "metadata": {},
   "outputs": [
    {
     "name": "stdout",
     "output_type": "stream",
     "text": [
      "Distribuição Platicúrtica\n"
     ]
    }
   ],
   "source": [
    "if 2.5 <= curtose <= 3.5:\n",
    "    resultado2=\"Distribuição Mesocúrtica\"\n",
    "elif curtose < 2.5:\n",
    "    resultado2=\"Distribuição Platicúrtica\"\n",
    "else:\n",
    "    resultado2=\"Distribuição Leptocúrtica\"\n",
    "\n",
    "print(resultado2)"
   ]
  },
  {
   "cell_type": "code",
   "execution_count": 20,
   "metadata": {},
   "outputs": [
    {
     "data": {
      "image/png": "[encoded data removed]",
      "text/plain": [
       "<Figure size 640x480 with 1 Axes>"
      ]
     },
     "metadata": {},
     "output_type": "display_data"
    }
   ],
   "source": [
    "import matplotlib.pyplot as plt\n",
    "\n",
    "plt.boxplot(numeros_df['Salários'])\n",
    "plt.title('Boxplot dos Salários')\n",
    "plt.ylabel('Salário')\n",
    "plt.show()"
   ]
  }
 ],
 "metadata": {
  "kernelspec": {
   "display_name": "Python 3",
   "language": "python",
   "name": "python3"
  },
  "language_info": {
   "codemirror_mode": {
    "name": "ipython",
    "version": 3
   },
   "file_extension": ".py",
   "mimetype": "text/x-python",
   "name": "python",
   "nbconvert_exporter": "python",
   "pygments_lexer": "ipython3",
   "version": "3.11.4"
  },
  "orig_nbformat": 4
 },
 "nbformat": 4,
 "nbformat_minor": 2
}
