{
 "cells": [
  {
   "cell_type": "markdown",
   "metadata": {},
   "source": [
    "**Comandos Git para Trabalhar no Terminal Bash do VSCode:**"
   ]
  },
  {
   "cell_type": "markdown",
   "metadata": {},
   "source": [
    "*Etapas:*\n",
    "\n",
    "    1  git clone https://github.com/KlemDoug/MulheresTechBigData\n",
    "       (clona teu repositório de trabalho existente no Github para a máquina local)\n",
    "\n",
    "    2  cd MulheresTechBigData\n",
    "       (comando para entrar no diretório correto para adição dos arquivos - o seu repositório)\n",
    "\n",
    "    3  ls\n",
    "       (exibe todos os arquivos e pastas presentes no repositório; importante para você ter o nome exato do arquivo que pretende add no Github em seguida)\n",
    "\n",
    "    4  git add teste.docx\n",
    "       (adiciona um arquivo que já está no diretório físico mas que ainda não subiu para o Github; para add uma pasta inteira, coloque '/' no final do nome da pasta (ex: git add UC1/) )    \n",
    "\n",
    "    5  git commit -m \"teste em aula\"\n",
    "       (envia uma mensagem junto da adição do arquivo; semelhante ao espaço para escrever que temos na interface do navegador do Github)\n",
    "\n",
    "    6  git push origin main\n",
    "       (comando para enviar o arquivo diretamente ao main branch; existe a opção de rodar 'git push origin master', dependendo do seu branch local)\n",
    "\n",
    "    7  git status\n",
    "       (comando para verificar se toda a operação funcionou. Em caso positivo, deve haver a mensagem 'nothing to commit, working tree clean' no seu terminal.)\n",
    "\n",
    "    8  exit\n",
    "      (encerra as atividades no bash com segurança)\n",
    "\n",
    "    9  history\n",
    "      (retorna o histórico recente de comandos que você utilizou no bash)"
   ]
  }
 ],
 "metadata": {
  "language_info": {
   "name": "python"
  },
  "orig_nbformat": 4
 },
 "nbformat": 4,
 "nbformat_minor": 2
}
