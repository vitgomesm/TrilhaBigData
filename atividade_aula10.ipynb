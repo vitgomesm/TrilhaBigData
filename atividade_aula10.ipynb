{
 "cells": [
  {
   "cell_type": "markdown",
   "metadata": {},
   "source": []
  },
  {
   "cell_type": "code",
   "execution_count": 14,
   "metadata": {},
   "outputs": [],
   "source": [
    "import numpy as np\n",
    "import pandas as pd\n",
    "import matplotlib as plt\n",
    "import random"
   ]
  },
  {
   "cell_type": "code",
   "execution_count": 15,
   "metadata": {},
   "outputs": [
    {
     "name": "stdout",
     "output_type": "stream",
     "text": [
      "[1545 1574 1915 1577 4271 2642 2409 3749 3195 2033 3226 3122 1794 2557\n",
      " 3322 3626 2750 2710 1656 3934 2584 4262 3449 3723 2340 3587 3005 2240\n",
      " 1593 3257 3166 2823 1777 4273 2283 4402 3592 1751 2309 2198 2238 2294\n",
      " 2007 4222 1724 4237 1731 1798 4401 3867]\n"
     ]
    }
   ],
   "source": [
    "nums = [random.randint(1500, 4440) for n in range (50)]\n",
    "numeros=np.array(nums) \n",
    "print(numeros)"
   ]
  },
  {
   "cell_type": "code",
   "execution_count": 16,
   "metadata": {},
   "outputs": [
    {
     "name": "stdout",
     "output_type": "stream",
     "text": [
      "2814.8\n"
     ]
    }
   ],
   "source": [
    "media=np.mean(numeros)\n",
    "print(media)"
   ]
  },
  {
   "cell_type": "code",
   "execution_count": 17,
   "metadata": {},
   "outputs": [
    {
     "data": {
      "text/plain": [
       "[np.float64(-1269.8000000000002),\n",
       " np.float64(-1240.8000000000002),\n",
       " np.float64(-899.8000000000002),\n",
       " np.float64(-1237.8000000000002),\n",
       " np.float64(1456.1999999999998),\n",
       " np.float64(-172.80000000000018),\n",
       " np.float64(-405.8000000000002),\n",
       " np.float64(934.1999999999998),\n",
       " np.float64(380.1999999999998),\n",
       " np.float64(-781.8000000000002),\n",
       " np.float64(411.1999999999998),\n",
       " np.float64(307.1999999999998),\n",
       " np.float64(-1020.8000000000002),\n",
       " np.float64(-257.8000000000002),\n",
       " np.float64(507.1999999999998),\n",
       " np.float64(811.1999999999998),\n",
       " np.float64(-64.80000000000018),\n",
       " np.float64(-104.80000000000018),\n",
       " np.float64(-1158.8000000000002),\n",
       " np.float64(1119.1999999999998),\n",
       " np.float64(-230.80000000000018),\n",
       " np.float64(1447.1999999999998),\n",
       " np.float64(634.1999999999998),\n",
       " np.float64(908.1999999999998),\n",
       " np.float64(-474.8000000000002),\n",
       " np.float64(772.1999999999998),\n",
       " np.float64(190.19999999999982),\n",
       " np.float64(-574.8000000000002),\n",
       " np.float64(-1221.8000000000002),\n",
       " np.float64(442.1999999999998),\n",
       " np.float64(351.1999999999998),\n",
       " np.float64(8.199999999999818),\n",
       " np.float64(-1037.8000000000002),\n",
       " np.float64(1458.1999999999998),\n",
       " np.float64(-531.8000000000002),\n",
       " np.float64(1587.1999999999998),\n",
       " np.float64(777.1999999999998),\n",
       " np.float64(-1063.8000000000002),\n",
       " np.float64(-505.8000000000002),\n",
       " np.float64(-616.8000000000002),\n",
       " np.float64(-576.8000000000002),\n",
       " np.float64(-520.8000000000002),\n",
       " np.float64(-807.8000000000002),\n",
       " np.float64(1407.1999999999998),\n",
       " np.float64(-1090.8000000000002),\n",
       " np.float64(1422.1999999999998),\n",
       " np.float64(-1083.8000000000002),\n",
       " np.float64(-1016.8000000000002),\n",
       " np.float64(1586.1999999999998),\n",
       " np.float64(1052.1999999999998)]"
      ]
     },
     "metadata": {},
     "output_type": "display_data"
    }
   ],
   "source": [
    "diferencas=[x - media for x in numeros]\n",
    "display(diferencas)"
   ]
  },
  {
   "cell_type": "code",
   "execution_count": 18,
   "metadata": {},
   "outputs": [
    {
     "data": {
      "text/plain": [
       "[np.float64(1612392.0400000005),\n",
       " np.float64(1539584.6400000004),\n",
       " np.float64(809640.0400000003),\n",
       " np.float64(1532148.8400000005),\n",
       " np.float64(2120518.4399999995),\n",
       " np.float64(29859.840000000062),\n",
       " np.float64(164673.64000000016),\n",
       " np.float64(872729.6399999997),\n",
       " np.float64(144552.03999999986),\n",
       " np.float64(611211.2400000003),\n",
       " np.float64(169085.43999999986),\n",
       " np.float64(94371.8399999999),\n",
       " np.float64(1042032.6400000004),\n",
       " np.float64(66460.8400000001),\n",
       " np.float64(257251.83999999982),\n",
       " np.float64(658045.4399999997),\n",
       " np.float64(4199.040000000024),\n",
       " np.float64(10983.040000000037),\n",
       " np.float64(1342817.4400000004),\n",
       " np.float64(1252608.6399999997),\n",
       " np.float64(53268.64000000009),\n",
       " np.float64(2094387.8399999994),\n",
       " np.float64(402209.6399999998),\n",
       " np.float64(824827.2399999996),\n",
       " np.float64(225435.04000000018),\n",
       " np.float64(596292.8399999997),\n",
       " np.float64(36176.03999999993),\n",
       " np.float64(330395.0400000002),\n",
       " np.float64(1492795.2400000005),\n",
       " np.float64(195540.83999999985),\n",
       " np.float64(123341.43999999987),\n",
       " np.float64(67.23999999999701),\n",
       " np.float64(1077028.8400000003),\n",
       " np.float64(2126347.2399999993),\n",
       " np.float64(282811.24000000017),\n",
       " np.float64(2519203.8399999994),\n",
       " np.float64(604039.8399999997),\n",
       " np.float64(1131670.4400000004),\n",
       " np.float64(255833.6400000002),\n",
       " np.float64(380442.2400000002),\n",
       " np.float64(332698.2400000002),\n",
       " np.float64(271232.6400000002),\n",
       " np.float64(652540.8400000003),\n",
       " np.float64(1980211.8399999994),\n",
       " np.float64(1189844.6400000004),\n",
       " np.float64(2022652.8399999994),\n",
       " np.float64(1174622.4400000004),\n",
       " np.float64(1033882.2400000003),\n",
       " np.float64(2516030.4399999995),\n",
       " np.float64(1107124.8399999996)]"
      ]
     },
     "metadata": {},
     "output_type": "display_data"
    }
   ],
   "source": [
    "quadrados_das_diferencas=[x ** 2 for x in diferencas]\n",
    "display(quadrados_das_diferencas)"
   ]
  },
  {
   "cell_type": "code",
   "execution_count": 19,
   "metadata": {},
   "outputs": [
    {
     "name": "stdout",
     "output_type": "stream",
     "text": [
      "827362.4399999998\n"
     ]
    }
   ],
   "source": [
    "variancia=sum(quadrados_das_diferencas)/len(quadrados_das_diferencas)\n",
    "print(variancia)"
   ]
  },
  {
   "cell_type": "code",
   "execution_count": 20,
   "metadata": {},
   "outputs": [
    {
     "name": "stdout",
     "output_type": "stream",
     "text": [
      "909.5946569763918\n"
     ]
    }
   ],
   "source": [
    "desviopadrao=variancia**0.5\n",
    "print(desviopadrao)"
   ]
  },
  {
   "cell_type": "code",
   "execution_count": 21,
   "metadata": {},
   "outputs": [
    {
     "data": {
      "text/plain": [
       "array([1545, 1574, 1915, 1577, 4271, 2642, 2409, 3749, 3195, 2033, 3226,\n",
       "       3122, 1794, 2557, 3322, 3626, 2750, 2710, 1656, 3934, 2584, 4262,\n",
       "       3449, 3723, 2340, 3587, 3005, 2240, 1593, 3257, 3166, 2823, 1777,\n",
       "       4273, 2283, 4402, 3592, 1751, 2309, 2198, 2238, 2294, 2007, 4222,\n",
       "       1724, 4237, 1731, 1798, 4401, 3867])"
      ]
     },
     "metadata": {},
     "output_type": "display_data"
    },
    {
     "name": "stdout",
     "output_type": "stream",
     "text": [
      "827362.4399999998\n",
      "909.5946569763918\n"
     ]
    }
   ],
   "source": [
    "display(numeros)\n",
    "variancia=np.var(numeros)\n",
    "print(variancia)\n",
    "\n",
    "desviopadrao=np.std(numeros)\n",
    "print(desviopadrao)"
   ]
  },
  {
   "cell_type": "code",
   "execution_count": 22,
   "metadata": {},
   "outputs": [
    {
     "name": "stdout",
     "output_type": "stream",
     "text": [
      "844247.3877551019\n",
      "918.8293572557975\n"
     ]
    },
    {
     "data": {
      "text/plain": [
       "0     1545\n",
       "1     1574\n",
       "2     1915\n",
       "3     1577\n",
       "4     4271\n",
       "5     2642\n",
       "6     2409\n",
       "7     3749\n",
       "8     3195\n",
       "9     2033\n",
       "10    3226\n",
       "11    3122\n",
       "12    1794\n",
       "13    2557\n",
       "14    3322\n",
       "15    3626\n",
       "16    2750\n",
       "17    2710\n",
       "18    1656\n",
       "19    3934\n",
       "20    2584\n",
       "21    4262\n",
       "22    3449\n",
       "23    3723\n",
       "24    2340\n",
       "25    3587\n",
       "26    3005\n",
       "27    2240\n",
       "28    1593\n",
       "29    3257\n",
       "30    3166\n",
       "31    2823\n",
       "32    1777\n",
       "33    4273\n",
       "34    2283\n",
       "35    4402\n",
       "36    3592\n",
       "37    1751\n",
       "38    2309\n",
       "39    2198\n",
       "40    2238\n",
       "41    2294\n",
       "42    2007\n",
       "43    4222\n",
       "44    1724\n",
       "45    4237\n",
       "46    1731\n",
       "47    1798\n",
       "48    4401\n",
       "49    3867\n",
       "dtype: int64"
      ]
     },
     "metadata": {},
     "output_type": "display_data"
    }
   ],
   "source": [
    "numeros2=pd.Series(numeros)\n",
    "variancia=numeros2.var()\n",
    "print(variancia)\n",
    "\n",
    "\n",
    "desviopadrao=numeros2.std()\n",
    "print(desviopadrao)\n",
    "\n",
    "display(numeros2)"
   ]
  },
  {
   "cell_type": "code",
   "execution_count": 23,
   "metadata": {},
   "outputs": [
    {
     "name": "stdout",
     "output_type": "stream",
     "text": [
      "0.32642793706685996\n"
     ]
    }
   ],
   "source": [
    "coef_variacao=desviopadrao/media\n",
    "print(coef_variacao)"
   ]
  },
  {
   "cell_type": "code",
   "execution_count": 24,
   "metadata": {},
   "outputs": [
    {
     "name": "stdout",
     "output_type": "stream",
     "text": [
      "10.655519809772589 %\n"
     ]
    }
   ],
   "source": [
    "distancia=variancia / (media**2)\n",
    "print(distancia*100,'%')"
   ]
  }
 ],
 "metadata": {
  "kernelspec": {
   "display_name": "Python 3",
   "language": "python",
   "name": "python3"
  },
  "language_info": {
   "codemirror_mode": {
    "name": "ipython",
    "version": 3
   },
   "file_extension": ".py",
   "mimetype": "text/x-python",
   "name": "python",
   "nbconvert_exporter": "python",
   "pygments_lexer": "ipython3",
   "version": "3.11.4"
  },
  "orig_nbformat": 4
 },
 "nbformat": 4,
 "nbformat_minor": 2
}
